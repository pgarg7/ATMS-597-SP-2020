{
  "nbformat": 4,
  "nbformat_minor": 0,
  "metadata": {
    "colab": {
      "name": "project3.ipynb",
      "provenance": [],
      "collapsed_sections": [
        "617Jmkn2N8Ri"
      ],
      "authorship_tag": "ABX9TyPR9sgX00DnYWgEft2TsUuI",
      "include_colab_link": true
    },
    "kernelspec": {
      "name": "python3",
      "display_name": "Python 3"
    }
  },
  "cells": [
    {
      "cell_type": "markdown",
      "metadata": {
        "id": "view-in-github",
        "colab_type": "text"
      },
      "source": [
        "<a href=\"https://colab.research.google.com/github/pgarg7/ATMS-597-SP-2020/blob/sarah/project3.ipynb\" target=\"_parent\"><img src=\"https://colab.research.google.com/assets/colab-badge.svg\" alt=\"Open In Colab\"/></a>"
      ]
    },
    {
      "cell_type": "markdown",
      "metadata": {
        "id": "ACAA6Y8tR6GL",
        "colab_type": "text"
      },
      "source": [
        "## Background"
      ]
    },
    {
      "cell_type": "markdown",
      "metadata": {
        "id": "fMX7TblBLplc",
        "colab_type": "text"
      },
      "source": [
        "Imports and Installs"
      ]
    },
    {
      "cell_type": "code",
      "metadata": {
        "id": "vVTgyIn2Lp0K",
        "colab_type": "code",
        "colab": {
          "base_uri": "https://localhost:8080/",
          "height": 598
        },
        "outputId": "bbb4f281-d3ec-47ab-a19c-c5e6eea5aa3a"
      },
      "source": [
        "!pip install netcdf4\n",
        "!pip install pydap\n",
        "!pip install wget\n",
        "\n",
        "%pylab inline \n",
        "import xarray as xr\n",
        "import wget\n",
        "import glob\n",
        "from bs4 import BeautifulSoup\n",
        "import requests"
      ],
      "execution_count": 3,
      "outputs": [
        {
          "output_type": "stream",
          "text": [
            "Collecting netcdf4\n",
            "\u001b[?25l  Downloading https://files.pythonhosted.org/packages/35/4f/d49fe0c65dea4d2ebfdc602d3e3d2a45a172255c151f4497c43f6d94a5f6/netCDF4-1.5.3-cp36-cp36m-manylinux1_x86_64.whl (4.1MB)\n",
            "\u001b[K     |████████████████████████████████| 4.1MB 2.6MB/s \n",
            "\u001b[?25hRequirement already satisfied: numpy>=1.7 in /usr/local/lib/python3.6/dist-packages (from netcdf4) (1.17.5)\n",
            "Collecting cftime\n",
            "\u001b[?25l  Downloading https://files.pythonhosted.org/packages/53/35/e2fc52247871c51590d6660e684fdc619a93a29f40e3b64894bd4f8c9041/cftime-1.1.0-cp36-cp36m-manylinux1_x86_64.whl (316kB)\n",
            "\u001b[K     |████████████████████████████████| 317kB 47.8MB/s \n",
            "\u001b[?25hInstalling collected packages: cftime, netcdf4\n",
            "Successfully installed cftime-1.1.0 netcdf4-1.5.3\n",
            "Collecting pydap\n",
            "\u001b[?25l  Downloading https://files.pythonhosted.org/packages/9e/ad/01367f79b24015e223dd7679e4c9b16a6792fe5a9772e45e5f81b2c4a021/Pydap-3.2.2-py3-none-any.whl (2.3MB)\n",
            "\u001b[K     |████████████████████████████████| 2.3MB 2.7MB/s \n",
            "\u001b[?25hRequirement already satisfied: six>=1.4.0 in /usr/local/lib/python3.6/dist-packages (from pydap) (1.12.0)\n",
            "Requirement already satisfied: docopt in /usr/local/lib/python3.6/dist-packages (from pydap) (0.6.2)\n",
            "Requirement already satisfied: Jinja2 in /usr/local/lib/python3.6/dist-packages (from pydap) (2.11.1)\n",
            "Collecting Webob\n",
            "\u001b[?25l  Downloading https://files.pythonhosted.org/packages/18/3c/de37900faff3c95c7d55dd557aa71bd77477950048983dcd4b53f96fde40/WebOb-1.8.6-py2.py3-none-any.whl (114kB)\n",
            "\u001b[K     |████████████████████████████████| 122kB 20.8MB/s \n",
            "\u001b[?25hRequirement already satisfied: beautifulsoup4 in /usr/local/lib/python3.6/dist-packages (from pydap) (4.6.3)\n",
            "Requirement already satisfied: numpy in /usr/local/lib/python3.6/dist-packages (from pydap) (1.17.5)\n",
            "Requirement already satisfied: MarkupSafe>=0.23 in /usr/local/lib/python3.6/dist-packages (from Jinja2->pydap) (1.1.1)\n",
            "Installing collected packages: Webob, pydap\n",
            "Successfully installed Webob-1.8.6 pydap-3.2.2\n",
            "Collecting wget\n",
            "  Downloading https://files.pythonhosted.org/packages/47/6a/62e288da7bcda82b935ff0c6cfe542970f04e29c756b0e147251b2fb251f/wget-3.2.zip\n",
            "Building wheels for collected packages: wget\n",
            "  Building wheel for wget (setup.py) ... \u001b[?25l\u001b[?25hdone\n",
            "  Created wheel for wget: filename=wget-3.2-cp36-none-any.whl size=9682 sha256=fe609acc81add062d7ff5ec132508d099a33000e3a79b8f4b2b7b79c54c4d50c\n",
            "  Stored in directory: /root/.cache/pip/wheels/40/15/30/7d8f7cea2902b4db79e3fea550d7d7b85ecb27ef992b618f3f\n",
            "Successfully built wget\n",
            "Installing collected packages: wget\n",
            "Successfully installed wget-3.2\n",
            "Populating the interactive namespace from numpy and matplotlib\n"
          ],
          "name": "stdout"
        }
      ]
    },
    {
      "cell_type": "markdown",
      "metadata": {
        "id": "I9CrtOKLMRJm",
        "colab_type": "text"
      },
      "source": [
        "Mount Drive"
      ]
    },
    {
      "cell_type": "code",
      "metadata": {
        "id": "s2pjgdiDLr14",
        "colab_type": "code",
        "colab": {
          "base_uri": "https://localhost:8080/",
          "height": 122
        },
        "outputId": "431fafa5-24af-4663-92ab-50335564b854"
      },
      "source": [
        "from google.colab import drive\n",
        "drive.mount('/content/drive')"
      ],
      "execution_count": 4,
      "outputs": [
        {
          "output_type": "stream",
          "text": [
            "Go to this URL in a browser: https://accounts.google.com/o/oauth2/auth?client_id=947318989803-6bn6qk8qdgf4n4g3pfee6491hc0brc4i.apps.googleusercontent.com&redirect_uri=urn%3aietf%3awg%3aoauth%3a2.0%3aoob&response_type=code&scope=email%20https%3a%2f%2fwww.googleapis.com%2fauth%2fdocs.test%20https%3a%2f%2fwww.googleapis.com%2fauth%2fdrive%20https%3a%2f%2fwww.googleapis.com%2fauth%2fdrive.photos.readonly%20https%3a%2f%2fwww.googleapis.com%2fauth%2fpeopleapi.readonly\n",
            "\n",
            "Enter your authorization code:\n",
            "··········\n",
            "Mounted at /content/drive\n"
          ],
          "name": "stdout"
        }
      ]
    },
    {
      "cell_type": "markdown",
      "metadata": {
        "id": "_DK4T8spQdgn",
        "colab_type": "text"
      },
      "source": [
        "Define Functions"
      ]
    },
    {
      "cell_type": "code",
      "metadata": {
        "id": "82FgotHwQc-Q",
        "colab_type": "code",
        "colab": {}
      },
      "source": [
        "# Create a function to find months JJA\n",
        "def is_jja(month):\n",
        "    return (month >= 6) & (month <= 8)"
      ],
      "execution_count": 0,
      "outputs": []
    },
    {
      "cell_type": "markdown",
      "metadata": {
        "id": "617Jmkn2N8Ri",
        "colab_type": "text"
      },
      "source": [
        "## Part 1:\n",
        "Aggregate daily rainfall data from the Global Precipitaiton Climatology Project 1 degree daily precipitation data over the period 1996 - 2019 into a single file from daily files, available here: [https://www.ncei.noaa.gov/data/global-precipitation-climatology-project-gpcp-daily/access/]."
      ]
    },
    {
      "cell_type": "code",
      "metadata": {
        "id": "HJeiP9D1McZ9",
        "colab_type": "code",
        "colab": {}
      },
      "source": [
        "url = 'https://www.ncei.noaa.gov/data/global-precipitation-climatology-project-gpcp-daily/access/'\n",
        "ext = 'nc'\n",
        "\n",
        "def get_url_paths(url, ext='', params={}):\n",
        "    response = requests.get(url, params=params)\n",
        "    if response.ok:\n",
        "        response_text = response.text\n",
        "    else:\n",
        "        return response.raise_for_status()\n",
        "    soup = BeautifulSoup(response_text, 'html.parser')\n",
        "    parent = [url + node.get('href') for node in soup.find_all('a') if node.get('href').endswith(ext)]\n",
        "    return parent"
      ],
      "execution_count": 0,
      "outputs": []
    },
    {
      "cell_type": "code",
      "metadata": {
        "id": "aBgpdI99MdDw",
        "colab_type": "code",
        "colab": {}
      },
      "source": [
        "# Loop through all years and grab all of the datasets\n",
        "years = np.arange(1996,2020)\n",
        "datasets = []\n",
        "for i in years:\n",
        "  result = get_url_paths(url+'{i}/'.format(i=i),ext)\n",
        "  print('working on {i} '.format(i=i))\n",
        "  for j in range(len(result)):\n",
        "    wget.download(result[j])\n",
        "  files = glob.glob('gpcp*.nc')\n",
        "  f = xr.open_mfdataset(files,concat_dim='time')\n",
        "  var = xr.DataArray(f.precip.values,dims=['time','lat','lon'],\n",
        "                    coords={'time':f.time.values,\n",
        "                            'lat':f.latitude.values,\n",
        "                            'lon':f.longitude.values})\n",
        "  datasets.append(var)\n",
        "  !rm gpcp*.nc\n",
        "    #break"
      ],
      "execution_count": 0,
      "outputs": []
    },
    {
      "cell_type": "code",
      "metadata": {
        "id": "ThfKip3OM4V7",
        "colab_type": "code",
        "colab": {}
      },
      "source": [
        "# Concatenate the datasets along time dimension\n",
        "combined = xr.concat(datasets,dim='time')\n",
        "\n",
        "# Convert to xarray dataset\n",
        "combined_data = combined.to_dataset(name='precip')\n",
        "\n",
        "# Convert to netCDF and save\n",
        "combined_data.to_netcdf('/content/drive/My Drive/ATMS597_Project3_GOCO/GPCP_aggregate.nc',format='NETCDF4')\n"
      ],
      "execution_count": 0,
      "outputs": []
    },
    {
      "cell_type": "markdown",
      "metadata": {
        "id": "_XP63ShyOJXP",
        "colab_type": "text"
      },
      "source": [
        "## Part 2:\n",
        "Determine the 95% values of daily precipitation during a selected particular 3-month period (given in the table below by group) over the grid box closest to the city you are examining. Plot a cumulative distribution function of all values daily precipitation values and illustrate the 95% value of daily precipitation in millimeters."
      ]
    },
    {
      "cell_type": "code",
      "metadata": {
        "id": "6HhcpvMCM9mX",
        "colab_type": "code",
        "colab": {}
      },
      "source": [
        "# Open the combined dataset\n",
        "combined_data = xr.open_dataset('/content/drive/My Drive/Colab Notebooks/ATMS597/GPCP_aggregate.nc')"
      ],
      "execution_count": 0,
      "outputs": []
    },
    {
      "cell_type": "code",
      "metadata": {
        "id": "XnHpzf-kNfW7",
        "colab_type": "code",
        "colab": {}
      },
      "source": [
        "# Slice data for June, July, and August only\n",
        "jja_data = combined_data.sel(time=is_jja(combined_data['time.month']))"
      ],
      "execution_count": 0,
      "outputs": []
    },
    {
      "cell_type": "code",
      "metadata": {
        "id": "D-TLdXcDNkZC",
        "colab_type": "code",
        "colab": {}
      },
      "source": [
        "# Find data point: Shanghai, China lat, lon 31.2304° N, 121.4737° E\n",
        "slat = 31.2304\n",
        "slon = 121.4737\n",
        "\n",
        "shanghai_jja = jja_data.sel(lon=slice(slon-1.,slon+1.),lat=slice(slat-1.,slat+1.))"
      ],
      "execution_count": 0,
      "outputs": []
    },
    {
      "cell_type": "code",
      "metadata": {
        "id": "aSjgTXU6NlAu",
        "colab_type": "code",
        "colab": {
          "base_uri": "https://localhost:8080/",
          "height": 269
        },
        "outputId": "c6bee6d3-6853-4c35-db96-a7c894d75cb3"
      },
      "source": [
        "# ????\n",
        "plt.pcolormesh(shanghai_jja.precip.values[0,:,:])\n",
        "plt.colorbar()\n",
        "plt.show()"
      ],
      "execution_count": 9,
      "outputs": [
        {
          "output_type": "display_data",
          "data": {
            "image/png": "[encoded data removed]",
            "text/plain": [
              "<Figure size 432x288 with 2 Axes>"
            ]
          },
          "metadata": {
            "tags": []
          }
        }
      ]
    },
    {
      "cell_type": "code",
      "metadata": {
        "id": "E7thahaFNna0",
        "colab_type": "code",
        "colab": {}
      },
      "source": [
        "# Find valid values\n",
        "valid_ind = np.where((shanghai_jja.precip.values>=0.)&(shanghai_jja.precip.values<=1000.))"
      ],
      "execution_count": 0,
      "outputs": []
    },
    {
      "cell_type": "code",
      "metadata": {
        "id": "uON62UrbNpLE",
        "colab_type": "code",
        "colab": {}
      },
      "source": [
        "# Extract valid values\n",
        "precip_shanghai = shanghai_jja.precip.values[valid_ind]"
      ],
      "execution_count": 0,
      "outputs": []
    },
    {
      "cell_type": "code",
      "metadata": {
        "id": "-dqHi9Q1NwRf",
        "colab_type": "code",
        "colab": {}
      },
      "source": [
        "# Calculate 95 percentile\n",
        "perc_95 = np.percentile(precip_shanghai,95)"
      ],
      "execution_count": 0,
      "outputs": []
    },
    {
      "cell_type": "code",
      "metadata": {
        "id": "6nw6QxReNrrQ",
        "colab_type": "code",
        "colab": {
          "base_uri": "https://localhost:8080/",
          "height": 684
        },
        "outputId": "aac813cd-b984-453f-b973-871da40bf844"
      },
      "source": [
        "# Plot\n",
        "\n",
        "# Plotting parameters\n",
        "mpl.rcParams['xtick.major.size'] = 14\n",
        "mpl.rcParams['xtick.major.width'] = 1\n",
        "mpl.rcParams['xtick.minor.size'] = 14\n",
        "mpl.rcParams['xtick.minor.width'] = 1\n",
        "mpl.rcParams['ytick.major.size'] = 14\n",
        "mpl.rcParams['ytick.major.width'] = 1\n",
        "mpl.rcParams['ytick.minor.size'] = 14\n",
        "mpl.rcParams['ytick.minor.width'] = 1\n",
        "mpl.rcParams['font.family'] = 'sans-serif'\n",
        "mpl.rcParams['font.serif'] = ['Helvetica']\n",
        "mpl.rc('xtick',labelsize=16)    # Formatting the x ticks\n",
        "mpl.rc('ytick',labelsize=16)\n",
        "\n",
        "# Plotting\n",
        "counts, bin_edges = np.histogram (precip_shanghai, bins=50, normed=True)\n",
        "cdf = np.cumsum (counts)\n",
        "plt.figure(figsize=(15,10))\n",
        "plt.plot (bin_edges[1:], cdf/cdf[-1],'r',label='CDF')\n",
        "plt.axvline(perc_95,c='b',ls='--',label='$95^{th}$ Percentile')\n",
        "plt.xlabel('GPCP Daily Precipitation (mm)',fontsize=20)\n",
        "plt.ylabel('Likelihood of Occurence',fontsize=20)\n",
        "plt.legend(loc='upper left',fontsize=16)\n",
        "plt.show()"
      ],
      "execution_count": 13,
      "outputs": [
        {
          "output_type": "stream",
          "text": [
            "/usr/local/lib/python3.6/dist-packages/ipykernel_launcher.py:15: VisibleDeprecationWarning: Passing `normed=True` on non-uniform bins has always been broken, and computes neither the probability density function nor the probability mass function. The result is only correct if the bins are uniform, when density=True will produce the same result anyway. The argument will be removed in a future version of numpy.\n",
            "  from ipykernel import kernelapp as app\n"
          ],
          "name": "stderr"
        },
        {
          "output_type": "display_data",
          "data": {
            "image/png": "[encoded data removed]",
            "text/plain": [
              "<Figure size 1080x720 with 1 Axes>"
            ]
          },
          "metadata": {
            "tags": []
          }
        }
      ]
    },
    {
      "cell_type": "code",
      "metadata": {
        "id": "0tFpPi1eN1HD",
        "colab_type": "code",
        "colab": {}
      },
      "source": [
        "# Create Dataset for Shanghai significant points\n",
        "shanghai_95th = shanghai_jja.where(shanghai_jja.precip>=perc_95,drop=True)"
      ],
      "execution_count": 0,
      "outputs": []
    },
    {
      "cell_type": "markdown",
      "metadata": {
        "id": "iwAbeqilOOKD",
        "colab_type": "text"
      },
      "source": [
        "## Part 3:\n",
        "Using output from the NCEP Reanalysis [https://journals.ametsoc.org/doi/pdf/10.1175/1520-0477(1996)077%3C0437%3ATNYRP%3E2.0.CO%3B2] (Kalnay et al. 1996), compute the global mean fields and seasonal anomaly fields for days meeting and exceeding the threshold of precipitation calculated in the previous step (using the 1981-2010 as a base period for anomalies) of\n",
        "\n",
        "*   250 hPa wind vectors and wind speed,\n",
        "*   500 hPa winds and geopotential height,\n",
        "*   850 hPa temperature, specific humidity, and winds,\n",
        "*   skin temperature, and surface winds,\n",
        "*   total atmospheric column water vapor."
      ]
    },
    {
      "cell_type": "code",
      "metadata": {
        "id": "1j4Gn2YAKqad",
        "colab_type": "code",
        "colab": {
          "base_uri": "https://localhost:8080/",
          "height": 153
        },
        "outputId": "f430b690-ad3f-41bb-f438-c8c72c325e16"
      },
      "source": [
        "shanghai_95th"
      ],
      "execution_count": 15,
      "outputs": [
        {
          "output_type": "execute_result",
          "data": {
            "text/html": [
              "<pre>&lt;xarray.Dataset&gt;\n",
              "Dimensions:  (lat: 2, lon: 2, time: 216)\n",
              "Coordinates:\n",
              "  * lat      (lat) float32 31.0 32.0\n",
              "  * lon      (lon) float32 121.0 122.0\n",
              "  * time     (time) datetime64[ns] 1997-08-09 1997-08-18 ... 2019-07-04\n",
              "Data variables:\n",
              "    precip   (time, lat, lon) float32 41.471333 30.201077 nan ... nan nan</pre>"
            ],
            "text/plain": [
              "<xarray.Dataset>\n",
              "Dimensions:  (lat: 2, lon: 2, time: 216)\n",
              "Coordinates:\n",
              "  * lat      (lat) float32 31.0 32.0\n",
              "  * lon      (lon) float32 121.0 122.0\n",
              "  * time     (time) datetime64[ns] 1997-08-09 1997-08-18 ... 2019-07-04\n",
              "Data variables:\n",
              "    precip   (time, lat, lon) float32 41.471333 30.201077 nan ... nan nan"
            ]
          },
          "metadata": {
            "tags": []
          },
          "execution_count": 15
        }
      ]
    },
    {
      "cell_type": "code",
      "metadata": {
        "id": "pNkbn_vtONkr",
        "colab_type": "code",
        "colab": {
          "base_uri": "https://localhost:8080/",
          "height": 377
        },
        "outputId": "2aaf4d6a-b730-488d-e21f-1b4e5b673aee"
      },
      "source": [
        "# Wind\n",
        "uwnd = xr.open_dataset('https://www.esrl.noaa.gov/psd/thredds/dodsC/Datasets/ncep.reanalysis.derived/pressure/uwnd.day.1981-2010.ltm.nc', engine='netcdf4') \n",
        "vwnd = xr.open_dataset('https://www.esrl.noaa.gov/psd/thredds/dodsC/Datasets/ncep.reanalysis.derived/pressure/vwnd.day.1981-2010.ltm.nc', engine='netcdf4')\n",
        "\n",
        "# Geopotential height\n",
        "z500 = xr.open_dataset('https://www.esrl.noaa.gov/psd/thredds/dodsC/Datasets/ncep.reanalysis.derived/pressure/hgt.day.1981-2010.ltm.nc', engine='netcdf4')\n",
        "\n",
        "# Temperature\n",
        "air = xr.open_dataset('https://www.esrl.noaa.gov/psd/thredds/dodsC/Datasets/ncep.reanalysis.derived/pressure/air.day.1981-2010.ltm.nc', engine='netcdf4')\n",
        "\n",
        "# Specific humidity\n",
        "shum = xr.open_dataset('https://www.esrl.noaa.gov/psd/thredds/dodsC/Datasets/ncep.reanalysis.derived/pressure/shum.day.1981-2010.ltm.nc', engine='netcdf4')\n",
        "\n",
        "# Skin Temperature\n",
        "# ??????\n",
        "\n",
        "# Total Atmospheric Column Water Vapor\n",
        "# ??????"
      ],
      "execution_count": 24,
      "outputs": [
        {
          "output_type": "stream",
          "text": [
            "/usr/local/lib/python3.6/dist-packages/xarray/coding/times.py:426: SerializationWarning: Unable to decode time axis into full numpy.datetime64 objects, continuing using cftime.datetime objects instead, reason: dates out of range\n",
            "  dtype = _decode_cf_datetime_dtype(data, units, calendar, self.use_cftime)\n",
            "/usr/local/lib/python3.6/dist-packages/numpy/core/_asarray.py:85: SerializationWarning: Unable to decode time axis into full numpy.datetime64 objects, continuing using cftime.datetime objects instead, reason: dates out of range\n",
            "  return array(a, dtype, copy=False, order=order)\n",
            "/usr/local/lib/python3.6/dist-packages/xarray/coding/times.py:426: SerializationWarning: Unable to decode time axis into full numpy.datetime64 objects, continuing using cftime.datetime objects instead, reason: dates out of range\n",
            "  dtype = _decode_cf_datetime_dtype(data, units, calendar, self.use_cftime)\n",
            "/usr/local/lib/python3.6/dist-packages/numpy/core/_asarray.py:85: SerializationWarning: Unable to decode time axis into full numpy.datetime64 objects, continuing using cftime.datetime objects instead, reason: dates out of range\n",
            "  return array(a, dtype, copy=False, order=order)\n",
            "/usr/local/lib/python3.6/dist-packages/xarray/coding/times.py:426: SerializationWarning: Unable to decode time axis into full numpy.datetime64 objects, continuing using cftime.datetime objects instead, reason: dates out of range\n",
            "  dtype = _decode_cf_datetime_dtype(data, units, calendar, self.use_cftime)\n",
            "/usr/local/lib/python3.6/dist-packages/numpy/core/_asarray.py:85: SerializationWarning: Unable to decode time axis into full numpy.datetime64 objects, continuing using cftime.datetime objects instead, reason: dates out of range\n",
            "  return array(a, dtype, copy=False, order=order)\n",
            "/usr/local/lib/python3.6/dist-packages/xarray/coding/times.py:426: SerializationWarning: Unable to decode time axis into full numpy.datetime64 objects, continuing using cftime.datetime objects instead, reason: dates out of range\n",
            "  dtype = _decode_cf_datetime_dtype(data, units, calendar, self.use_cftime)\n",
            "/usr/local/lib/python3.6/dist-packages/numpy/core/_asarray.py:85: SerializationWarning: Unable to decode time axis into full numpy.datetime64 objects, continuing using cftime.datetime objects instead, reason: dates out of range\n",
            "  return array(a, dtype, copy=False, order=order)\n",
            "/usr/local/lib/python3.6/dist-packages/xarray/coding/times.py:426: SerializationWarning: Unable to decode time axis into full numpy.datetime64 objects, continuing using cftime.datetime objects instead, reason: dates out of range\n",
            "  dtype = _decode_cf_datetime_dtype(data, units, calendar, self.use_cftime)\n",
            "/usr/local/lib/python3.6/dist-packages/numpy/core/_asarray.py:85: SerializationWarning: Unable to decode time axis into full numpy.datetime64 objects, continuing using cftime.datetime objects instead, reason: dates out of range\n",
            "  return array(a, dtype, copy=False, order=order)\n"
          ],
          "name": "stderr"
        }
      ]
    },
    {
      "cell_type": "markdown",
      "metadata": {
        "id": "nnoB4FWUv7O_",
        "colab_type": "text"
      },
      "source": [
        "### 250 hPa wind vectors and wind speed"
      ]
    },
    {
      "cell_type": "code",
      "metadata": {
        "id": "DLNcMkqeOcD2",
        "colab_type": "code",
        "colab": {}
      },
      "source": [
        ""
      ],
      "execution_count": 0,
      "outputs": []
    },
    {
      "cell_type": "markdown",
      "metadata": {
        "id": "rTcnNu-qwWEX",
        "colab_type": "text"
      },
      "source": [
        "### 500 hPa winds and geopotential height"
      ]
    },
    {
      "cell_type": "code",
      "metadata": {
        "id": "oElmnl2Mwb95",
        "colab_type": "code",
        "colab": {}
      },
      "source": [
        ""
      ],
      "execution_count": 0,
      "outputs": []
    },
    {
      "cell_type": "markdown",
      "metadata": {
        "id": "oCkT0fs-wcFL",
        "colab_type": "text"
      },
      "source": [
        "### 850 hPa temperature, specific humidity, and winds"
      ]
    },
    {
      "cell_type": "code",
      "metadata": {
        "id": "gKotR2v1wcL-",
        "colab_type": "code",
        "colab": {}
      },
      "source": [
        ""
      ],
      "execution_count": 0,
      "outputs": []
    },
    {
      "cell_type": "markdown",
      "metadata": {
        "id": "RAvRzjVvwp_U",
        "colab_type": "text"
      },
      "source": [
        "### Skin temperature and surface winds"
      ]
    },
    {
      "cell_type": "code",
      "metadata": {
        "id": "qdPoVlscwqJR",
        "colab_type": "code",
        "colab": {}
      },
      "source": [
        ""
      ],
      "execution_count": 0,
      "outputs": []
    },
    {
      "cell_type": "markdown",
      "metadata": {
        "id": "-6ay4gbBwqWq",
        "colab_type": "text"
      },
      "source": [
        "### Total atmospheric column water vapor"
      ]
    },
    {
      "cell_type": "code",
      "metadata": {
        "id": "dEr3fTMZwqeJ",
        "colab_type": "code",
        "colab": {}
      },
      "source": [
        ""
      ],
      "execution_count": 0,
      "outputs": []
    },
    {
      "cell_type": "markdown",
      "metadata": {
        "id": "r11NsHmxOclH",
        "colab_type": "text"
      },
      "source": [
        "## Part 4:\n",
        "Create maps showing the mean fields for the extreme precipitation day composites, long term mean composites for the selected months, and the anomaly fields for each variable. Use contours and vectors when appropriate."
      ]
    },
    {
      "cell_type": "code",
      "metadata": {
        "id": "h6NK4kP_OgMX",
        "colab_type": "code",
        "colab": {}
      },
      "source": [
        ""
      ],
      "execution_count": 0,
      "outputs": []
    }
  ]
}