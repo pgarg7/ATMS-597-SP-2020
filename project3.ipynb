{
  "nbformat": 4,
  "nbformat_minor": 0,
  "metadata": {
    "colab": {
      "name": "Copy of project3.ipynb",
      "provenance": [],
      "collapsed_sections": [
        "617Jmkn2N8Ri"
      ],
      "authorship_tag": "ABX9TyNGJEmbohGb2NP+Zvo6rlK/",
      "include_colab_link": true
    },
    "kernelspec": {
      "name": "python3",
      "display_name": "Python 3"
    }
  },
  "cells": [
    {
      "cell_type": "markdown",
      "metadata": {
        "id": "view-in-github",
        "colab_type": "text"
      },
      "source": [
        "<a href=\"https://colab.research.google.com/github/pgarg7/ATMS-597-SP-2020/blob/master/project3.ipynb\" target=\"_parent\"><img src=\"https://colab.research.google.com/assets/colab-badge.svg\" alt=\"Open In Colab\"/></a>"
      ]
    },
    {
      "cell_type": "markdown",
      "metadata": {
        "id": "ACAA6Y8tR6GL",
        "colab_type": "text"
      },
      "source": [
        "## Background"
      ]
    },
    {
      "cell_type": "markdown",
      "metadata": {
        "id": "fMX7TblBLplc",
        "colab_type": "text"
      },
      "source": [
        "Imports and Installs"
      ]
    },
    {
      "cell_type": "code",
      "metadata": {
        "id": "vVTgyIn2Lp0K",
        "colab_type": "code",
        "outputId": "a2565a27-7949-4386-d5e6-1ad486ac056d",
        "colab": {
          "base_uri": "https://localhost:8080/",
          "height": 289
        }
      },
      "source": [
        "!pip install netcdf4\n",
        "!pip install pydap\n",
        "!pip install wget\n",
        "\n",
        "%pylab inline \n",
        "import xarray as xr\n",
        "import wget\n",
        "import glob\n",
        "from bs4 import BeautifulSoup\n",
        "import requests\n",
        "import pandas as pd\n",
        "import datetime"
      ],
      "execution_count": 44,
      "outputs": [
        {
          "output_type": "stream",
          "text": [
            "Requirement already satisfied: netcdf4 in /usr/local/lib/python3.6/dist-packages (1.5.3)\n",
            "Requirement already satisfied: numpy>=1.7 in /usr/local/lib/python3.6/dist-packages (from netcdf4) (1.17.5)\n",
            "Requirement already satisfied: cftime in /usr/local/lib/python3.6/dist-packages (from netcdf4) (1.1.0)\n",
            "Requirement already satisfied: pydap in /usr/local/lib/python3.6/dist-packages (3.2.2)\n",
            "Requirement already satisfied: beautifulsoup4 in /usr/local/lib/python3.6/dist-packages (from pydap) (4.6.3)\n",
            "Requirement already satisfied: Webob in /usr/local/lib/python3.6/dist-packages (from pydap) (1.8.6)\n",
            "Requirement already satisfied: numpy in /usr/local/lib/python3.6/dist-packages (from pydap) (1.17.5)\n",
            "Requirement already satisfied: docopt in /usr/local/lib/python3.6/dist-packages (from pydap) (0.6.2)\n",
            "Requirement already satisfied: six>=1.4.0 in /usr/local/lib/python3.6/dist-packages (from pydap) (1.12.0)\n",
            "Requirement already satisfied: Jinja2 in /usr/local/lib/python3.6/dist-packages (from pydap) (2.11.1)\n",
            "Requirement already satisfied: MarkupSafe>=0.23 in /usr/local/lib/python3.6/dist-packages (from Jinja2->pydap) (1.1.1)\n",
            "Requirement already satisfied: wget in /usr/local/lib/python3.6/dist-packages (3.2)\n",
            "Populating the interactive namespace from numpy and matplotlib\n"
          ],
          "name": "stdout"
        },
        {
          "output_type": "stream",
          "text": [
            "/usr/local/lib/python3.6/dist-packages/IPython/core/magics/pylab.py:161: UserWarning: pylab import has clobbered these variables: ['datetime']\n",
            "`%matplotlib` prevents importing * from pylab and numpy\n",
            "  \"\\n`%matplotlib` prevents importing * from pylab and numpy\"\n"
          ],
          "name": "stderr"
        }
      ]
    },
    {
      "cell_type": "markdown",
      "metadata": {
        "id": "I9CrtOKLMRJm",
        "colab_type": "text"
      },
      "source": [
        "Mount Drive"
      ]
    },
    {
      "cell_type": "code",
      "metadata": {
        "id": "s2pjgdiDLr14",
        "colab_type": "code",
        "outputId": "1e5c176c-c12b-4692-8ce3-46ce9bd545d0",
        "colab": {
          "base_uri": "https://localhost:8080/",
          "height": 34
        }
      },
      "source": [
        "from google.colab import drive\n",
        "drive.mount('/content/drive')"
      ],
      "execution_count": 45,
      "outputs": [
        {
          "output_type": "stream",
          "text": [
            "Drive already mounted at /content/drive; to attempt to forcibly remount, call drive.mount(\"/content/drive\", force_remount=True).\n"
          ],
          "name": "stdout"
        }
      ]
    },
    {
      "cell_type": "markdown",
      "metadata": {
        "id": "_DK4T8spQdgn",
        "colab_type": "text"
      },
      "source": [
        "Define Functions"
      ]
    },
    {
      "cell_type": "code",
      "metadata": {
        "id": "82FgotHwQc-Q",
        "colab_type": "code",
        "colab": {}
      },
      "source": [
        "# Create a function to find months JJA\n",
        "def is_jja(month):\n",
        "    return (month >= 6) & (month <= 8)"
      ],
      "execution_count": 0,
      "outputs": []
    },
    {
      "cell_type": "markdown",
      "metadata": {
        "id": "617Jmkn2N8Ri",
        "colab_type": "text"
      },
      "source": [
        "## Part 1:\n",
        "Aggregate daily rainfall data from the Global Precipitaiton Climatology Project 1 degree daily precipitation data over the period 1996 - 2019 into a single file from daily files, available here: [https://www.ncei.noaa.gov/data/global-precipitation-climatology-project-gpcp-daily/access/]."
      ]
    },
    {
      "cell_type": "code",
      "metadata": {
        "id": "HJeiP9D1McZ9",
        "colab_type": "code",
        "colab": {}
      },
      "source": [
        "url = 'https://www.ncei.noaa.gov/data/global-precipitation-climatology-project-gpcp-daily/access/'\n",
        "ext = 'nc'\n",
        "\n",
        "def get_url_paths(url, ext='', params={}):\n",
        "    response = requests.get(url, params=params)\n",
        "    if response.ok:\n",
        "        response_text = response.text\n",
        "    else:\n",
        "        return response.raise_for_status()\n",
        "    soup = BeautifulSoup(response_text, 'html.parser')\n",
        "    parent = [url + node.get('href') for node in soup.find_all('a') if node.get('href').endswith(ext)]\n",
        "    return parent"
      ],
      "execution_count": 0,
      "outputs": []
    },
    {
      "cell_type": "code",
      "metadata": {
        "id": "aBgpdI99MdDw",
        "colab_type": "code",
        "colab": {}
      },
      "source": [
        "# Loop through all years and grab all of the datasets\n",
        "years = np.arange(1996,2020)\n",
        "datasets = []\n",
        "for i in years:\n",
        "  result = get_url_paths(url+'{i}/'.format(i=i),ext)\n",
        "  print('working on {i} '.format(i=i))\n",
        "  for j in range(len(result)):\n",
        "    wget.download(result[j])\n",
        "  files = glob.glob('gpcp*.nc')\n",
        "  f = xr.open_mfdataset(files,concat_dim='time')\n",
        "  var = xr.DataArray(f.precip.values,dims=['time','lat','lon'],\n",
        "                    coords={'time':f.time.values,\n",
        "                            'lat':f.latitude.values,\n",
        "                            'lon':f.longitude.values})\n",
        "  datasets.append(var)\n",
        "  !rm gpcp*.nc\n",
        "    #break"
      ],
      "execution_count": 0,
      "outputs": []
    },
    {
      "cell_type": "code",
      "metadata": {
        "id": "ThfKip3OM4V7",
        "colab_type": "code",
        "colab": {}
      },
      "source": [
        "# Concatenate the datasets along time dimension\n",
        "combined = xr.concat(datasets,dim='time')\n",
        "\n",
        "# Convert to xarray dataset\n",
        "combined_data = combined.to_dataset(name='precip')\n",
        "\n",
        "# Convert to netCDF and save\n",
        "combined_data.to_netcdf('/content/drive/My Drive/ATMS597_Project3_GOCO/GPCP_aggregate.nc',format='NETCDF4')\n"
      ],
      "execution_count": 0,
      "outputs": []
    },
    {
      "cell_type": "markdown",
      "metadata": {
        "id": "_XP63ShyOJXP",
        "colab_type": "text"
      },
      "source": [
        "## Part 2:\n",
        "Determine the 95% values of daily precipitation during a selected particular 3-month period (given in the table below by group) over the grid box closest to the city you are examining. Plot a cumulative distribution function of all values daily precipitation values and illustrate the 95% value of daily precipitation in millimeters."
      ]
    },
    {
      "cell_type": "code",
      "metadata": {
        "id": "6HhcpvMCM9mX",
        "colab_type": "code",
        "colab": {}
      },
      "source": [
        "# Open the combined dataset\n",
        "combined_data = xr.open_dataset('/content/drive/My Drive/Colab Notebooks/ATMS597/GPCP_aggregate.nc')"
      ],
      "execution_count": 0,
      "outputs": []
    },
    {
      "cell_type": "code",
      "metadata": {
        "id": "XnHpzf-kNfW7",
        "colab_type": "code",
        "colab": {}
      },
      "source": [
        "# Slice data for June, July, and August only\n",
        "jja_data = combined_data.sel(time=is_jja(combined_data['time.month']))"
      ],
      "execution_count": 0,
      "outputs": []
    },
    {
      "cell_type": "code",
      "metadata": {
        "id": "D-TLdXcDNkZC",
        "colab_type": "code",
        "colab": {
          "base_uri": "https://localhost:8080/",
          "height": 153
        },
        "outputId": "093c974a-1b25-43ed-8680-6fa6138ede73"
      },
      "source": [
        "# Find data point: Shanghai, China lat, lon 31.2304° N, 121.4737° E\n",
        "slat = 31.2304\n",
        "slon = 121.4737\n",
        "\n",
        "shanghai_jja = jja_data.sel(lon=slice(slon-.5,slon+.5),lat=slice(slat-.5,slat+.5))\n",
        "shanghai_jja"
      ],
      "execution_count": 80,
      "outputs": [
        {
          "output_type": "execute_result",
          "data": {
            "text/html": [
              "<pre>&lt;xarray.Dataset&gt;\n",
              "Dimensions:  (lat: 1, lon: 1, time: 2117)\n",
              "Coordinates:\n",
              "  * lat      (lat) float32 31.0\n",
              "  * lon      (lon) float32 121.0\n",
              "  * time     (time) datetime64[ns] 1997-06-30 1997-08-04 ... 2019-07-29\n",
              "Data variables:\n",
              "    precip   (time, lat, lon) float32 ...</pre>"
            ],
            "text/plain": [
              "<xarray.Dataset>\n",
              "Dimensions:  (lat: 1, lon: 1, time: 2117)\n",
              "Coordinates:\n",
              "  * lat      (lat) float32 31.0\n",
              "  * lon      (lon) float32 121.0\n",
              "  * time     (time) datetime64[ns] 1997-06-30 1997-08-04 ... 2019-07-29\n",
              "Data variables:\n",
              "    precip   (time, lat, lon) float32 ..."
            ]
          },
          "metadata": {
            "tags": []
          },
          "execution_count": 80
        }
      ]
    },
    {
      "cell_type": "code",
      "metadata": {
        "id": "aSjgTXU6NlAu",
        "colab_type": "code",
        "outputId": "57a2fe7f-598e-4cb6-9ff5-ceac2860ce91",
        "colab": {
          "base_uri": "https://localhost:8080/",
          "height": 287
        }
      },
      "source": [
        "# Plot the Shanghai Precip values\n",
        "plt.pcolormesh(shanghai_jja.precip.values[0,:,:])\n",
        "plt.colorbar()\n",
        "plt.show()"
      ],
      "execution_count": 81,
      "outputs": [
        {
          "output_type": "display_data",
          "data": {
            "image/png": "[encoded data removed]",
            "text/plain": [
              "<Figure size 432x288 with 2 Axes>"
            ]
          },
          "metadata": {
            "tags": []
          }
        }
      ]
    },
    {
      "cell_type": "code",
      "metadata": {
        "id": "E7thahaFNna0",
        "colab_type": "code",
        "colab": {}
      },
      "source": [
        "# Find valid values (remove obvious incorrect values)\n",
        "valid_ind = np.where((shanghai_jja.precip.values>=0.)&(shanghai_jja.precip.values<=1000.))"
      ],
      "execution_count": 0,
      "outputs": []
    },
    {
      "cell_type": "code",
      "metadata": {
        "id": "uON62UrbNpLE",
        "colab_type": "code",
        "colab": {}
      },
      "source": [
        "# Extract valid values\n",
        "precip_shanghai = shanghai_jja.precip.values[valid_ind]"
      ],
      "execution_count": 0,
      "outputs": []
    },
    {
      "cell_type": "code",
      "metadata": {
        "id": "-dqHi9Q1NwRf",
        "colab_type": "code",
        "colab": {}
      },
      "source": [
        "# Calculate 95 percentile\n",
        "perc_95 = np.percentile(precip_shanghai,95)"
      ],
      "execution_count": 0,
      "outputs": []
    },
    {
      "cell_type": "code",
      "metadata": {
        "id": "6nw6QxReNrrQ",
        "colab_type": "code",
        "outputId": "f2b97270-c07a-4596-9773-a8f40ed4a79a",
        "colab": {
          "base_uri": "https://localhost:8080/",
          "height": 684
        }
      },
      "source": [
        "# Plot\n",
        "\n",
        "# Plotting parameters\n",
        "mpl.rcParams['xtick.major.size'] = 14\n",
        "mpl.rcParams['xtick.major.width'] = 1\n",
        "mpl.rcParams['xtick.minor.size'] = 14\n",
        "mpl.rcParams['xtick.minor.width'] = 1\n",
        "mpl.rcParams['ytick.major.size'] = 14\n",
        "mpl.rcParams['ytick.major.width'] = 1\n",
        "mpl.rcParams['ytick.minor.size'] = 14\n",
        "mpl.rcParams['ytick.minor.width'] = 1\n",
        "mpl.rcParams['font.family'] = 'sans-serif'\n",
        "mpl.rcParams['font.serif'] = ['Helvetica']\n",
        "mpl.rc('xtick',labelsize=16)    # Formatting the x ticks\n",
        "mpl.rc('ytick',labelsize=16)\n",
        "\n",
        "# Plotting\n",
        "counts, bin_edges = np.histogram (precip_shanghai, bins=50, normed=True)\n",
        "cdf = np.cumsum (counts)\n",
        "plt.figure(figsize=(15,10))\n",
        "plt.plot (bin_edges[1:], cdf/cdf[-1],'r',label='CDF')\n",
        "plt.axvline(perc_95,c='b',ls='--',label='$95^{th}$ Percentile')\n",
        "plt.xlabel('GPCP Daily Precipitation (mm)',fontsize=20)\n",
        "plt.ylabel('Likelihood of Occurence',fontsize=20)\n",
        "plt.legend(loc='upper left',fontsize=16)\n",
        "plt.show()"
      ],
      "execution_count": 85,
      "outputs": [
        {
          "output_type": "stream",
          "text": [
            "/usr/local/lib/python3.6/dist-packages/ipykernel_launcher.py:15: VisibleDeprecationWarning: Passing `normed=True` on non-uniform bins has always been broken, and computes neither the probability density function nor the probability mass function. The result is only correct if the bins are uniform, when density=True will produce the same result anyway. The argument will be removed in a future version of numpy.\n",
            "  from ipykernel import kernelapp as app\n"
          ],
          "name": "stderr"
        },
        {
          "output_type": "display_data",
          "data": {
            "image/png": "[encoded data removed]",
            "text/plain": [
              "<Figure size 1080x720 with 1 Axes>"
            ]
          },
          "metadata": {
            "tags": []
          }
        }
      ]
    },
    {
      "cell_type": "code",
      "metadata": {
        "id": "0tFpPi1eN1HD",
        "colab_type": "code",
        "colab": {}
      },
      "source": [
        "# Create Dataset for Shanghai significant points\n",
        "shanghai_95th = shanghai_jja.where(shanghai_jja.precip>=perc_95,drop=True)"
      ],
      "execution_count": 0,
      "outputs": []
    },
    {
      "cell_type": "markdown",
      "metadata": {
        "id": "iwAbeqilOOKD",
        "colab_type": "text"
      },
      "source": [
        "## Part 3:\n",
        "Using output from the NCEP Reanalysis [https://journals.ametsoc.org/doi/pdf/10.1175/1520-0477(1996)077%3C0437%3ATNYRP%3E2.0.CO%3B2] (Kalnay et al. 1996), compute the global mean fields and seasonal anomaly fields for days meeting and exceeding the threshold of precipitation calculated in the previous step (using the 1981-2010 as a base period for anomalies) of\n",
        "\n",
        "*   250 hPa wind vectors and wind speed,\n",
        "*   500 hPa winds and geopotential height,\n",
        "*   850 hPa temperature, specific humidity, and winds,\n",
        "*   skin temperature, and surface winds,\n",
        "*   total atmospheric column water vapor."
      ]
    },
    {
      "cell_type": "markdown",
      "metadata": {
        "id": "PB_JN2eupkk3",
        "colab_type": "text"
      },
      "source": [
        "### Create a function to calculate mean for all fields given.\n",
        "Takes in variable, level, frequency (monthly or daily), and frequency index (0-12 monthly or 0-365 daily) for dataset."
      ]
    },
    {
      "cell_type": "code",
      "metadata": {
        "id": "dmFYdnRxpsK4",
        "colab_type": "code",
        "colab": {}
      },
      "source": [
        "# Possible variables\n",
        "variables_sfc = ['air_sfc', 'uwnd_sfc', 'vwnd_sfc', 'pr_wtr']\n",
        "variables = ['uwnd', 'vwnd', 'wspd', 'hgt', 'air', 'shum']\n",
        "\n",
        "# Frequency of data\n",
        "frequencies = ['mon', 'day']\n",
        "\n",
        "# Seasons\n",
        "DJF = [11, 0, 1] \n",
        "MAM = [2, 3, 4]\n",
        "JJA = [5, 6, 7]\n",
        "SON = [8, 9, 10]\n",
        "\n",
        "# File strings\n",
        "filepath = 'https://www.esrl.noaa.gov/psd/thredds/dodsC/Datasets/ncep.reanalysis'\n",
        "fileperiod = '.1981-2010.ltm.nc'\n",
        "\n",
        "def global_data_sfc(variable, frequency):\n",
        "    # Surface\n",
        "    if variable == 'air_sfc':\n",
        "        var = xr.open_dataset(filepath + '.derived/surface/air.sig995.' + str(frequency) + str(fileperiod), engine='netcdf4').isel(nbnds=0)\n",
        "    elif variable == 'uwnd_sfc':\n",
        "        var = xr.open_dataset(filepath + '.derived/surface/uwnd.sig995.' + str(frequency) + str(fileperiod), engine='netcdf4').isel(nbnds=0)\n",
        "    elif variable == 'vwnd_sfc':\n",
        "        var = xr.open_dataset(filepath + '.derived/surface/vwnd.sig995.' + str(frequency) + str(fileperiod), engine='netcdf4').isel(nbnds=0)\n",
        "    elif variable == 'pr_wtr':\n",
        "        var = xr.open_dataset(filepath + '.derived/surface/pr_wtr.eatm.' + str(frequency) + str(fileperiod), engine='netcdf4').isel(nbnds=0)\n",
        "    else:\n",
        "        print(\"Error. Please recheck argument inputs.\")\n",
        "    # Returns 2D Field\n",
        "    return var\n",
        "\n",
        "def global_data(variable, lvl, frequency):\n",
        "    var = xr.open_dataset(filepath + '.derived/pressure/' + str(variable) + '.' + str(frequency) + str(fileperiod), engine='netcdf4').isel(nbnds=0)\n",
        "    x = var.sel(level=[lvl])\n",
        "    # Returns 2D Field\n",
        "    return x\n",
        "\n",
        "def data_sfc(variable, year):\n",
        "    # Surface\n",
        "    if variable == 'air_sfc':\n",
        "        var = xr.open_dataset(filepath + '.dailyavgs/surface/air.sig995.' + str(year) + '.nc', engine='netcdf4').isel(nbnds=0)\n",
        "    elif variable == 'uwnd_sfc':\n",
        "        var = xr.open_dataset(filepath + '.dailyavgs/surface/uwnd.sig995.' + str(year) + '.nc', engine='netcdf4').isel(nbnds=0)\n",
        "    elif variable == 'vwnd_sfc':\n",
        "        var = xr.open_dataset(filepath + '.dailyavgs/surface/vwnd.sig995.' + str(year) + '.nc', engine='netcdf4').isel(nbnds=0)\n",
        "    elif variable == 'pr_wtr':\n",
        "        var = xr.open_dataset(filepath + '.dailyavgs/surface/pr_wtr.eatm.' + str(year) + '.nc', engine='netcdf4').isel(nbnds=0)\n",
        "    else:\n",
        "        print(\"Error. Please recheck argument inputs.\")\n",
        "    # Returns 2D Field\n",
        "    return var\n",
        "\n",
        "def data(variable, year):\n",
        "    var = xr.open_dataset(filepath + '.dailyavgs/pressure/' + str(variable) + '.' + str(year) + '.nc', engine='netcdf4').isel(nbnds=0)\n",
        "    x = var.sel(level=[lvl])\n",
        "    # Returns 2D Field\n",
        "    return x"
      ],
      "execution_count": 0,
      "outputs": []
    },
    {
      "cell_type": "markdown",
      "metadata": {
        "id": "fa1xB8UyrOIZ",
        "colab_type": "text"
      },
      "source": [
        "### Compute Global Mean Fields"
      ]
    },
    {
      "cell_type": "code",
      "metadata": {
        "id": "Fu5QUfW3q72l",
        "colab_type": "code",
        "outputId": "d6637a53-92a0-4913-e5f8-2d66662201f6",
        "colab": {
          "base_uri": "https://localhost:8080/",
          "height": 989
        }
      },
      "source": [
        "# 250 hPa wind vectors and wind speed\n",
        "uwnd_250 = global_data('uwnd', 250, 'mon').isel(time=JJA).mean(dim='time')\n",
        "vwnd_250 = global_data('vwnd', 250, 'mon').isel(time=JJA).mean(dim='time')\n",
        "wspd_250 = global_data('wspd', 250, 'mon').isel(time=JJA).mean(dim='time')\n",
        "\n",
        "# 500 hPa winds and geopotential height\n",
        "uwnd_250 = global_data('uwnd', 500, 'mon').isel(time=JJA).mean(dim='time')\n",
        "vwnd_250 = global_data('vwnd', 500, 'mon').isel(time=JJA).mean(dim='time')\n",
        "hgt_500 = global_data('hgt', 500, 'mon').isel(time=JJA).mean(dim='time')\n",
        "\n",
        "# 850 hPa temperature, specific humidity, and winds\n",
        "air_850 = global_data('air', 850, 'mon').isel(time=JJA).mean(dim='time')\n",
        "shum_850 = global_data('shum', 850, 'mon').isel(time=JJA).mean(dim='time')\n",
        "uwnd_850 = global_data('uwnd', 850, 'mon').isel(time=JJA).mean(dim='time')\n",
        "vwnd_850 = global_data('vwnd', 850, 'mon').isel(time=JJA).mean(dim='time')\n",
        "\n",
        "# Skin temperature and surface winds\n",
        "skt_sfc = global_data_sfc('air_sfc', 'mon').isel(time=JJA).mean(dim='time')\n",
        "uwnd_sfc = global_data_sfc('uwnd_sfc', 'mon').isel(time=JJA).mean(dim='time')\n",
        "vwnd_sfc = global_data_sfc('vwnd_sfc', 'mon').isel(time=JJA).mean(dim='time')\n",
        "\n",
        "# Total atmospheric column water vapor\n",
        "pr_wtr = global_data_sfc('pr_wtr', 'mon').isel(time=JJA).mean(dim='time')"
      ],
      "execution_count": 102,
      "outputs": [
        {
          "output_type": "stream",
          "text": [
            "/usr/local/lib/python3.6/dist-packages/xarray/coding/times.py:426: SerializationWarning: Unable to decode time axis into full numpy.datetime64 objects, continuing using cftime.datetime objects instead, reason: dates out of range\n",
            "  dtype = _decode_cf_datetime_dtype(data, units, calendar, self.use_cftime)\n",
            "/usr/local/lib/python3.6/dist-packages/numpy/core/_asarray.py:85: SerializationWarning: Unable to decode time axis into full numpy.datetime64 objects, continuing using cftime.datetime objects instead, reason: dates out of range\n",
            "  return array(a, dtype, copy=False, order=order)\n",
            "/usr/local/lib/python3.6/dist-packages/xarray/coding/times.py:426: SerializationWarning: Unable to decode time axis into full numpy.datetime64 objects, continuing using cftime.datetime objects instead, reason: dates out of range\n",
            "  dtype = _decode_cf_datetime_dtype(data, units, calendar, self.use_cftime)\n",
            "/usr/local/lib/python3.6/dist-packages/numpy/core/_asarray.py:85: SerializationWarning: Unable to decode time axis into full numpy.datetime64 objects, continuing using cftime.datetime objects instead, reason: dates out of range\n",
            "  return array(a, dtype, copy=False, order=order)\n",
            "/usr/local/lib/python3.6/dist-packages/xarray/coding/times.py:426: SerializationWarning: Unable to decode time axis into full numpy.datetime64 objects, continuing using cftime.datetime objects instead, reason: dates out of range\n",
            "  dtype = _decode_cf_datetime_dtype(data, units, calendar, self.use_cftime)\n",
            "/usr/local/lib/python3.6/dist-packages/numpy/core/_asarray.py:85: SerializationWarning: Unable to decode time axis into full numpy.datetime64 objects, continuing using cftime.datetime objects instead, reason: dates out of range\n",
            "  return array(a, dtype, copy=False, order=order)\n",
            "/usr/local/lib/python3.6/dist-packages/xarray/coding/times.py:426: SerializationWarning: Unable to decode time axis into full numpy.datetime64 objects, continuing using cftime.datetime objects instead, reason: dates out of range\n",
            "  dtype = _decode_cf_datetime_dtype(data, units, calendar, self.use_cftime)\n",
            "/usr/local/lib/python3.6/dist-packages/numpy/core/_asarray.py:85: SerializationWarning: Unable to decode time axis into full numpy.datetime64 objects, continuing using cftime.datetime objects instead, reason: dates out of range\n",
            "  return array(a, dtype, copy=False, order=order)\n",
            "/usr/local/lib/python3.6/dist-packages/xarray/coding/times.py:426: SerializationWarning: Unable to decode time axis into full numpy.datetime64 objects, continuing using cftime.datetime objects instead, reason: dates out of range\n",
            "  dtype = _decode_cf_datetime_dtype(data, units, calendar, self.use_cftime)\n",
            "/usr/local/lib/python3.6/dist-packages/numpy/core/_asarray.py:85: SerializationWarning: Unable to decode time axis into full numpy.datetime64 objects, continuing using cftime.datetime objects instead, reason: dates out of range\n",
            "  return array(a, dtype, copy=False, order=order)\n",
            "/usr/local/lib/python3.6/dist-packages/xarray/coding/times.py:426: SerializationWarning: Unable to decode time axis into full numpy.datetime64 objects, continuing using cftime.datetime objects instead, reason: dates out of range\n",
            "  dtype = _decode_cf_datetime_dtype(data, units, calendar, self.use_cftime)\n",
            "/usr/local/lib/python3.6/dist-packages/numpy/core/_asarray.py:85: SerializationWarning: Unable to decode time axis into full numpy.datetime64 objects, continuing using cftime.datetime objects instead, reason: dates out of range\n",
            "  return array(a, dtype, copy=False, order=order)\n",
            "/usr/local/lib/python3.6/dist-packages/xarray/coding/times.py:426: SerializationWarning: Unable to decode time axis into full numpy.datetime64 objects, continuing using cftime.datetime objects instead, reason: dates out of range\n",
            "  dtype = _decode_cf_datetime_dtype(data, units, calendar, self.use_cftime)\n",
            "/usr/local/lib/python3.6/dist-packages/numpy/core/_asarray.py:85: SerializationWarning: Unable to decode time axis into full numpy.datetime64 objects, continuing using cftime.datetime objects instead, reason: dates out of range\n",
            "  return array(a, dtype, copy=False, order=order)\n",
            "/usr/local/lib/python3.6/dist-packages/xarray/coding/times.py:426: SerializationWarning: Unable to decode time axis into full numpy.datetime64 objects, continuing using cftime.datetime objects instead, reason: dates out of range\n",
            "  dtype = _decode_cf_datetime_dtype(data, units, calendar, self.use_cftime)\n",
            "/usr/local/lib/python3.6/dist-packages/numpy/core/_asarray.py:85: SerializationWarning: Unable to decode time axis into full numpy.datetime64 objects, continuing using cftime.datetime objects instead, reason: dates out of range\n",
            "  return array(a, dtype, copy=False, order=order)\n",
            "/usr/local/lib/python3.6/dist-packages/xarray/coding/times.py:426: SerializationWarning: Unable to decode time axis into full numpy.datetime64 objects, continuing using cftime.datetime objects instead, reason: dates out of range\n",
            "  dtype = _decode_cf_datetime_dtype(data, units, calendar, self.use_cftime)\n",
            "/usr/local/lib/python3.6/dist-packages/numpy/core/_asarray.py:85: SerializationWarning: Unable to decode time axis into full numpy.datetime64 objects, continuing using cftime.datetime objects instead, reason: dates out of range\n",
            "  return array(a, dtype, copy=False, order=order)\n",
            "/usr/local/lib/python3.6/dist-packages/xarray/coding/times.py:426: SerializationWarning: Unable to decode time axis into full numpy.datetime64 objects, continuing using cftime.datetime objects instead, reason: dates out of range\n",
            "  dtype = _decode_cf_datetime_dtype(data, units, calendar, self.use_cftime)\n",
            "/usr/local/lib/python3.6/dist-packages/numpy/core/_asarray.py:85: SerializationWarning: Unable to decode time axis into full numpy.datetime64 objects, continuing using cftime.datetime objects instead, reason: dates out of range\n",
            "  return array(a, dtype, copy=False, order=order)\n",
            "/usr/local/lib/python3.6/dist-packages/xarray/coding/times.py:426: SerializationWarning: Unable to decode time axis into full numpy.datetime64 objects, continuing using cftime.datetime objects instead, reason: dates out of range\n",
            "  dtype = _decode_cf_datetime_dtype(data, units, calendar, self.use_cftime)\n",
            "/usr/local/lib/python3.6/dist-packages/numpy/core/_asarray.py:85: SerializationWarning: Unable to decode time axis into full numpy.datetime64 objects, continuing using cftime.datetime objects instead, reason: dates out of range\n",
            "  return array(a, dtype, copy=False, order=order)\n",
            "/usr/local/lib/python3.6/dist-packages/xarray/coding/times.py:426: SerializationWarning: Unable to decode time axis into full numpy.datetime64 objects, continuing using cftime.datetime objects instead, reason: dates out of range\n",
            "  dtype = _decode_cf_datetime_dtype(data, units, calendar, self.use_cftime)\n",
            "/usr/local/lib/python3.6/dist-packages/numpy/core/_asarray.py:85: SerializationWarning: Unable to decode time axis into full numpy.datetime64 objects, continuing using cftime.datetime objects instead, reason: dates out of range\n",
            "  return array(a, dtype, copy=False, order=order)\n",
            "/usr/local/lib/python3.6/dist-packages/xarray/coding/times.py:426: SerializationWarning: Unable to decode time axis into full numpy.datetime64 objects, continuing using cftime.datetime objects instead, reason: dates out of range\n",
            "  dtype = _decode_cf_datetime_dtype(data, units, calendar, self.use_cftime)\n",
            "/usr/local/lib/python3.6/dist-packages/numpy/core/_asarray.py:85: SerializationWarning: Unable to decode time axis into full numpy.datetime64 objects, continuing using cftime.datetime objects instead, reason: dates out of range\n",
            "  return array(a, dtype, copy=False, order=order)\n",
            "/usr/local/lib/python3.6/dist-packages/xarray/coding/times.py:426: SerializationWarning: Unable to decode time axis into full numpy.datetime64 objects, continuing using cftime.datetime objects instead, reason: dates out of range\n",
            "  dtype = _decode_cf_datetime_dtype(data, units, calendar, self.use_cftime)\n",
            "/usr/local/lib/python3.6/dist-packages/numpy/core/_asarray.py:85: SerializationWarning: Unable to decode time axis into full numpy.datetime64 objects, continuing using cftime.datetime objects instead, reason: dates out of range\n",
            "  return array(a, dtype, copy=False, order=order)\n"
          ],
          "name": "stderr"
        }
      ]
    },
    {
      "cell_type": "markdown",
      "metadata": {
        "id": "-6ay4gbBwqWq",
        "colab_type": "text"
      },
      "source": [
        "### Compute seasonal anomalies for extreme precip days"
      ]
    },
    {
      "cell_type": "code",
      "metadata": {
        "id": "dEr3fTMZwqeJ",
        "colab_type": "code",
        "outputId": "779cd808-3b50-4d3c-bb73-1ed215a477ed",
        "colab": {
          "base_uri": "https://localhost:8080/",
          "height": 445
        }
      },
      "source": [
        "uwnd_temp = global_data('uwnd', 250, 'day')\n",
        "uwnd_temp"
      ],
      "execution_count": 103,
      "outputs": [
        {
          "output_type": "stream",
          "text": [
            "/usr/local/lib/python3.6/dist-packages/xarray/coding/times.py:426: SerializationWarning: Unable to decode time axis into full numpy.datetime64 objects, continuing using cftime.datetime objects instead, reason: dates out of range\n",
            "  dtype = _decode_cf_datetime_dtype(data, units, calendar, self.use_cftime)\n",
            "/usr/local/lib/python3.6/dist-packages/numpy/core/_asarray.py:85: SerializationWarning: Unable to decode time axis into full numpy.datetime64 objects, continuing using cftime.datetime objects instead, reason: dates out of range\n",
            "  return array(a, dtype, copy=False, order=order)\n"
          ],
          "name": "stderr"
        },
        {
          "output_type": "execute_result",
          "data": {
            "text/html": [
              "<pre>&lt;xarray.Dataset&gt;\n",
              "Dimensions:             (lat: 73, level: 1, lon: 144, time: 365)\n",
              "Coordinates:\n",
              "  * lon                 (lon) float32 0.0 2.5 5.0 7.5 ... 352.5 355.0 357.5\n",
              "  * level               (level) float32 250.0\n",
              "  * time                (time) object 0001-01-01 00:00:00 ... 0001-12-31 00:00:00\n",
              "  * lat                 (lat) float32 90.0 87.5 85.0 82.5 ... -85.0 -87.5 -90.0\n",
              "Data variables:\n",
              "    climatology_bounds  (time) datetime64[ns] ...\n",
              "    uwnd                (time, level, lat, lon) float32 ...\n",
              "    valid_yr_count      (time, level, lat, lon) float32 ...\n",
              "Attributes:\n",
              "    Conventions:                    COARDS\n",
              "    description:                    Data is from NMC initialized reanalysis\\n...\n",
              "    platform:                       Model\n",
              "    not_missing_threshold_percent:  minimum 3% values input to have non-missi...\n",
              "    history:                        Created 2011/06/27 by doDayLTM\\nConverted...\n",
              "    title:                          daily ltm uwnd from the NCEP Reanalysis\n",
              "    References:                     http://www.esrl.noaa.gov/psd/data/gridded...\n",
              "    dataset_title:                  NCEP-NCAR Reanalysis 1</pre>"
            ],
            "text/plain": [
              "<xarray.Dataset>\n",
              "Dimensions:             (lat: 73, level: 1, lon: 144, time: 365)\n",
              "Coordinates:\n",
              "  * lon                 (lon) float32 0.0 2.5 5.0 7.5 ... 352.5 355.0 357.5\n",
              "  * level               (level) float32 250.0\n",
              "  * time                (time) object 0001-01-01 00:00:00 ... 0001-12-31 00:00:00\n",
              "  * lat                 (lat) float32 90.0 87.5 85.0 82.5 ... -85.0 -87.5 -90.0\n",
              "Data variables:\n",
              "    climatology_bounds  (time) datetime64[ns] ...\n",
              "    uwnd                (time, level, lat, lon) float32 ...\n",
              "    valid_yr_count      (time, level, lat, lon) float32 ...\n",
              "Attributes:\n",
              "    Conventions:                    COARDS\n",
              "    description:                    Data is from NMC initialized reanalysis\\n...\n",
              "    platform:                       Model\n",
              "    not_missing_threshold_percent:  minimum 3% values input to have non-missi...\n",
              "    history:                        Created 2011/06/27 by doDayLTM\\nConverted...\n",
              "    title:                          daily ltm uwnd from the NCEP Reanalysis\n",
              "    References:                     http://www.esrl.noaa.gov/psd/data/gridded...\n",
              "    dataset_title:                  NCEP-NCAR Reanalysis 1"
            ]
          },
          "metadata": {
            "tags": []
          },
          "execution_count": 103
        }
      ]
    },
    {
      "cell_type": "code",
      "metadata": {
        "id": "4ME4uSSg3Fzm",
        "colab_type": "code",
        "colab": {
          "base_uri": "https://localhost:8080/",
          "height": 51
        },
        "outputId": "99d788b9-8fdb-4c72-e364-956b612932e0"
      },
      "source": [
        "z = uwnd_temp.time.values[0]\n",
        "print(z)\n",
        "print(z.timetuple().tm_yday)"
      ],
      "execution_count": 63,
      "outputs": [
        {
          "output_type": "stream",
          "text": [
            "0001-01-01 00:00:00\n",
            "1\n"
          ],
          "name": "stdout"
        }
      ]
    },
    {
      "cell_type": "code",
      "metadata": {
        "id": "95UDPMiVi62v",
        "colab_type": "code",
        "colab": {
          "base_uri": "https://localhost:8080/",
          "height": 51
        },
        "outputId": "a4b7e3f5-2153-4f87-eea2-e4ae0707a149"
      },
      "source": [
        "t = pd.to_datetime(shanghai_95th.time.values[0])\n",
        "print(t)\n",
        "print(t.timetuple().tm_yday)"
      ],
      "execution_count": 64,
      "outputs": [
        {
          "output_type": "stream",
          "text": [
            "1997-08-09 00:00:00\n",
            "221\n"
          ],
          "name": "stdout"
        }
      ]
    },
    {
      "cell_type": "code",
      "metadata": {
        "id": "MS6-rYWeoLuO",
        "colab_type": "code",
        "colab": {
          "base_uri": "https://localhost:8080/",
          "height": 357
        },
        "outputId": "e6c7c4ac-5674-4f21-a878-e24e9042da89"
      },
      "source": [
        "uwnd_temp"
      ],
      "execution_count": 98,
      "outputs": [
        {
          "output_type": "execute_result",
          "data": {
            "text/html": [
              "<pre>&lt;xarray.Dataset&gt;\n",
              "Dimensions:             (lat: 73, level: 1, lon: 144, time: 365)\n",
              "Coordinates:\n",
              "  * lon                 (lon) float32 0.0 2.5 5.0 7.5 ... 352.5 355.0 357.5\n",
              "  * level               (level) float32 250.0\n",
              "  * time                (time) object 0001-01-01 00:00:00 ... 0001-12-31 00:00:00\n",
              "  * lat                 (lat) float32 90.0 87.5 85.0 82.5 ... -85.0 -87.5 -90.0\n",
              "Data variables:\n",
              "    climatology_bounds  (time) datetime64[ns] ...\n",
              "    uwnd                (time, level, lat, lon) float32 ...\n",
              "    valid_yr_count      (time, level, lat, lon) float32 ...\n",
              "Attributes:\n",
              "    Conventions:                    COARDS\n",
              "    description:                    Data is from NMC initialized reanalysis\\n...\n",
              "    platform:                       Model\n",
              "    not_missing_threshold_percent:  minimum 3% values input to have non-missi...\n",
              "    history:                        Created 2011/06/27 by doDayLTM\\nConverted...\n",
              "    title:                          daily ltm uwnd from the NCEP Reanalysis\n",
              "    References:                     http://www.esrl.noaa.gov/psd/data/gridded...\n",
              "    dataset_title:                  NCEP-NCAR Reanalysis 1</pre>"
            ],
            "text/plain": [
              "<xarray.Dataset>\n",
              "Dimensions:             (lat: 73, level: 1, lon: 144, time: 365)\n",
              "Coordinates:\n",
              "  * lon                 (lon) float32 0.0 2.5 5.0 7.5 ... 352.5 355.0 357.5\n",
              "  * level               (level) float32 250.0\n",
              "  * time                (time) object 0001-01-01 00:00:00 ... 0001-12-31 00:00:00\n",
              "  * lat                 (lat) float32 90.0 87.5 85.0 82.5 ... -85.0 -87.5 -90.0\n",
              "Data variables:\n",
              "    climatology_bounds  (time) datetime64[ns] ...\n",
              "    uwnd                (time, level, lat, lon) float32 ...\n",
              "    valid_yr_count      (time, level, lat, lon) float32 ...\n",
              "Attributes:\n",
              "    Conventions:                    COARDS\n",
              "    description:                    Data is from NMC initialized reanalysis\\n...\n",
              "    platform:                       Model\n",
              "    not_missing_threshold_percent:  minimum 3% values input to have non-missi...\n",
              "    history:                        Created 2011/06/27 by doDayLTM\\nConverted...\n",
              "    title:                          daily ltm uwnd from the NCEP Reanalysis\n",
              "    References:                     http://www.esrl.noaa.gov/psd/data/gridded...\n",
              "    dataset_title:                  NCEP-NCAR Reanalysis 1"
            ]
          },
          "metadata": {
            "tags": []
          },
          "execution_count": 98
        }
      ]
    },
    {
      "cell_type": "code",
      "metadata": {
        "id": "0Ao8I7JJjIEs",
        "colab_type": "code",
        "colab": {
          "base_uri": "https://localhost:8080/",
          "height": 357
        },
        "outputId": "30207289-63b6-4884-cfae-e9842c9e8e35"
      },
      "source": [
        "uwnd_temp.sel(time=uwnd_temp.time.dt.dayofyear==t.timetuple().tm_yday)"
      ],
      "execution_count": 95,
      "outputs": [
        {
          "output_type": "execute_result",
          "data": {
            "text/html": [
              "<pre>&lt;xarray.Dataset&gt;\n",
              "Dimensions:             (lat: 73, level: 1, lon: 144, time: 1)\n",
              "Coordinates:\n",
              "  * lon                 (lon) float32 0.0 2.5 5.0 7.5 ... 352.5 355.0 357.5\n",
              "  * level               (level) float32 250.0\n",
              "  * time                (time) object 0001-08-09 00:00:00\n",
              "  * lat                 (lat) float32 90.0 87.5 85.0 82.5 ... -85.0 -87.5 -90.0\n",
              "Data variables:\n",
              "    climatology_bounds  (time) datetime64[ns] ...\n",
              "    uwnd                (time, level, lat, lon) float32 ...\n",
              "    valid_yr_count      (time, level, lat, lon) float32 ...\n",
              "Attributes:\n",
              "    Conventions:                    COARDS\n",
              "    description:                    Data is from NMC initialized reanalysis\\n...\n",
              "    platform:                       Model\n",
              "    not_missing_threshold_percent:  minimum 3% values input to have non-missi...\n",
              "    history:                        Created 2011/06/27 by doDayLTM\\nConverted...\n",
              "    title:                          daily ltm uwnd from the NCEP Reanalysis\n",
              "    References:                     http://www.esrl.noaa.gov/psd/data/gridded...\n",
              "    dataset_title:                  NCEP-NCAR Reanalysis 1</pre>"
            ],
            "text/plain": [
              "<xarray.Dataset>\n",
              "Dimensions:             (lat: 73, level: 1, lon: 144, time: 1)\n",
              "Coordinates:\n",
              "  * lon                 (lon) float32 0.0 2.5 5.0 7.5 ... 352.5 355.0 357.5\n",
              "  * level               (level) float32 250.0\n",
              "  * time                (time) object 0001-08-09 00:00:00\n",
              "  * lat                 (lat) float32 90.0 87.5 85.0 82.5 ... -85.0 -87.5 -90.0\n",
              "Data variables:\n",
              "    climatology_bounds  (time) datetime64[ns] ...\n",
              "    uwnd                (time, level, lat, lon) float32 ...\n",
              "    valid_yr_count      (time, level, lat, lon) float32 ...\n",
              "Attributes:\n",
              "    Conventions:                    COARDS\n",
              "    description:                    Data is from NMC initialized reanalysis\\n...\n",
              "    platform:                       Model\n",
              "    not_missing_threshold_percent:  minimum 3% values input to have non-missi...\n",
              "    history:                        Created 2011/06/27 by doDayLTM\\nConverted...\n",
              "    title:                          daily ltm uwnd from the NCEP Reanalysis\n",
              "    References:                     http://www.esrl.noaa.gov/psd/data/gridded...\n",
              "    dataset_title:                  NCEP-NCAR Reanalysis 1"
            ]
          },
          "metadata": {
            "tags": []
          },
          "execution_count": 95
        }
      ]
    },
    {
      "cell_type": "code",
      "metadata": {
        "id": "Oh4qgBJ6V1zc",
        "colab_type": "code",
        "colab": {}
      },
      "source": [
        "for index in len(shanghai_95th.time.values):\n",
        "  print "
      ],
      "execution_count": 0,
      "outputs": []
    },
    {
      "cell_type": "markdown",
      "metadata": {
        "id": "r11NsHmxOclH",
        "colab_type": "text"
      },
      "source": [
        "## Part 4:\n",
        "Create maps showing the mean fields for the extreme precipitation day composites, long term mean composites for the selected months, and the anomaly fields for each variable. Use contours and vectors when appropriate."
      ]
    },
    {
      "cell_type": "code",
      "metadata": {
        "id": "h6NK4kP_OgMX",
        "colab_type": "code",
        "colab": {}
      },
      "source": [
        ""
      ],
      "execution_count": 0,
      "outputs": []
    }
  ]
}